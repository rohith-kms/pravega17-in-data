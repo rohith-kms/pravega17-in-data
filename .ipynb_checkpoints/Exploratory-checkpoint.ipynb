{
 "cells": [
  {
   "cell_type": "markdown",
   "metadata": {},
   "source": [
    "# Exploratory data analysis of Pravega '17\n",
    "\n",
    "### The Dataset:\n",
    "\n",
    "Pravega online registrations dataset. MS Excel format.\n",
    "\n",
    "Let's import the required libraries first.\n",
    "\n",
    "## Import required libraries"
   ]
  },
  {
   "cell_type": "code",
   "execution_count": 1,
   "metadata": {
    "collapsed": true
   },
   "outputs": [],
   "source": [
    "import pandas as pd\n",
    "import numpy as np\n",
    "import seaborn as sns\n",
    "import matplotlib.pyplot as plt\n",
    "import sklearn as skl"
   ]
  },
  {
   "cell_type": "markdown",
   "metadata": {},
   "source": [
    "## Importing data and cleaning"
   ]
  },
  {
   "cell_type": "code",
   "execution_count": 2,
   "metadata": {},
   "outputs": [
    {
     "data": {
      "text/html": [
       "<div>\n",
       "<style>\n",
       "    .dataframe thead tr:only-child th {\n",
       "        text-align: right;\n",
       "    }\n",
       "\n",
       "    .dataframe thead th {\n",
       "        text-align: left;\n",
       "    }\n",
       "\n",
       "    .dataframe tbody tr th {\n",
       "        vertical-align: top;\n",
       "    }\n",
       "</style>\n",
       "<table border=\"1\" class=\"dataframe\">\n",
       "  <thead>\n",
       "    <tr style=\"text-align: right;\">\n",
       "      <th></th>\n",
       "      <th>Name</th>\n",
       "      <th>Email</th>\n",
       "      <th>ContactNo</th>\n",
       "      <th>College / City Name</th>\n",
       "      <th>Ticket name</th>\n",
       "      <th>TCFRegistrationId</th>\n",
       "      <th>TicketPrice</th>\n",
       "      <th>RegisteredOn</th>\n",
       "    </tr>\n",
       "  </thead>\n",
       "  <tbody>\n",
       "    <tr>\n",
       "      <th>0</th>\n",
       "      <td>BISHWAJEET KUMAR SINGH</td>\n",
       "      <td>bksinghdhn@gmail.com</td>\n",
       "      <td>9206821450</td>\n",
       "      <td>BANGALORE</td>\n",
       "      <td>General Registration</td>\n",
       "      <td>5582JE5</td>\n",
       "      <td>205</td>\n",
       "      <td>Wed Nov 16 17:19:22 IST 2016</td>\n",
       "    </tr>\n",
       "    <tr>\n",
       "      <th>1</th>\n",
       "      <td>N S Chiranjeevi</td>\n",
       "      <td>ns.chiranjeevi@students.iisertirupati.ac.in</td>\n",
       "      <td>8792877680</td>\n",
       "      <td>Indian Institute of Science Education and Rese...</td>\n",
       "      <td>General Registration</td>\n",
       "      <td>3PPAHDT</td>\n",
       "      <td>205</td>\n",
       "      <td>Tue Nov 22 08:59:26 IST 2016</td>\n",
       "    </tr>\n",
       "    <tr>\n",
       "      <th>2</th>\n",
       "      <td>N S Chiranjeevi</td>\n",
       "      <td>ns.chiranjeevi@students.iisertirupati.ac.in</td>\n",
       "      <td>8792877680</td>\n",
       "      <td>Indian Institute of Science Education and Rese...</td>\n",
       "      <td>Big Data</td>\n",
       "      <td>3PPAHDT</td>\n",
       "      <td>1500</td>\n",
       "      <td>Tue Nov 22 08:59:26 IST 2016</td>\n",
       "    </tr>\n",
       "    <tr>\n",
       "      <th>3</th>\n",
       "      <td>Shashank K M</td>\n",
       "      <td>shashank009.95@gmail.com</td>\n",
       "      <td>9880711530</td>\n",
       "      <td>St. Joseph College, Bangalore</td>\n",
       "      <td>Big Data</td>\n",
       "      <td>PSAXT4E</td>\n",
       "      <td>1500</td>\n",
       "      <td>Wed Nov 30 20:54:34 IST 2016</td>\n",
       "    </tr>\n",
       "    <tr>\n",
       "      <th>4</th>\n",
       "      <td>Rohan Pai M</td>\n",
       "      <td>pairohan20@gmail.com</td>\n",
       "      <td>9480655098</td>\n",
       "      <td>St.Joseph College Bangalore</td>\n",
       "      <td>Big Data</td>\n",
       "      <td>5XHV4ZX</td>\n",
       "      <td>1500</td>\n",
       "      <td>Wed Nov 30 22:26:03 IST 2016</td>\n",
       "    </tr>\n",
       "  </tbody>\n",
       "</table>\n",
       "</div>"
      ],
      "text/plain": [
       "                     Name                                        Email  \\\n",
       "0  BISHWAJEET KUMAR SINGH                         bksinghdhn@gmail.com   \n",
       "1         N S Chiranjeevi  ns.chiranjeevi@students.iisertirupati.ac.in   \n",
       "2         N S Chiranjeevi  ns.chiranjeevi@students.iisertirupati.ac.in   \n",
       "3            Shashank K M                     shashank009.95@gmail.com   \n",
       "4             Rohan Pai M                         pairohan20@gmail.com   \n",
       "\n",
       "    ContactNo                                College / City Name  \\\n",
       "0  9206821450                                          BANGALORE   \n",
       "1  8792877680  Indian Institute of Science Education and Rese...   \n",
       "2  8792877680  Indian Institute of Science Education and Rese...   \n",
       "3  9880711530                      St. Joseph College, Bangalore   \n",
       "4  9480655098                        St.Joseph College Bangalore   \n",
       "\n",
       "            Ticket name TCFRegistrationId  TicketPrice  \\\n",
       "0  General Registration           5582JE5          205   \n",
       "1  General Registration           3PPAHDT          205   \n",
       "2              Big Data           3PPAHDT         1500   \n",
       "3              Big Data           PSAXT4E         1500   \n",
       "4              Big Data           5XHV4ZX         1500   \n",
       "\n",
       "                   RegisteredOn  \n",
       "0  Wed Nov 16 17:19:22 IST 2016  \n",
       "1  Tue Nov 22 08:59:26 IST 2016  \n",
       "2  Tue Nov 22 08:59:26 IST 2016  \n",
       "3  Wed Nov 30 20:54:34 IST 2016  \n",
       "4  Wed Nov 30 22:26:03 IST 2016  "
      ]
     },
     "execution_count": 2,
     "metadata": {},
     "output_type": "execute_result"
    }
   ],
   "source": [
    "df = pd.read_excel('Online Registrations Collegefever 2017.xlsx')\n",
    "df.head()"
   ]
  },
  {
   "cell_type": "code",
   "execution_count": 3,
   "metadata": {},
   "outputs": [
    {
     "data": {
      "text/html": [
       "<div>\n",
       "<style>\n",
       "    .dataframe thead tr:only-child th {\n",
       "        text-align: right;\n",
       "    }\n",
       "\n",
       "    .dataframe thead th {\n",
       "        text-align: left;\n",
       "    }\n",
       "\n",
       "    .dataframe tbody tr th {\n",
       "        vertical-align: top;\n",
       "    }\n",
       "</style>\n",
       "<table border=\"1\" class=\"dataframe\">\n",
       "  <thead>\n",
       "    <tr style=\"text-align: right;\">\n",
       "      <th></th>\n",
       "      <th>ContactNo</th>\n",
       "      <th>TicketPrice</th>\n",
       "    </tr>\n",
       "  </thead>\n",
       "  <tbody>\n",
       "    <tr>\n",
       "      <th>count</th>\n",
       "      <td>1.577000e+03</td>\n",
       "      <td>1577.000000</td>\n",
       "    </tr>\n",
       "    <tr>\n",
       "      <th>mean</th>\n",
       "      <td>8.999055e+09</td>\n",
       "      <td>1070.783133</td>\n",
       "    </tr>\n",
       "    <tr>\n",
       "      <th>std</th>\n",
       "      <td>8.341585e+08</td>\n",
       "      <td>493.027339</td>\n",
       "    </tr>\n",
       "    <tr>\n",
       "      <th>min</th>\n",
       "      <td>9.886968e+08</td>\n",
       "      <td>205.000000</td>\n",
       "    </tr>\n",
       "    <tr>\n",
       "      <th>25%</th>\n",
       "      <td>8.357879e+09</td>\n",
       "      <td>600.000000</td>\n",
       "    </tr>\n",
       "    <tr>\n",
       "      <th>50%</th>\n",
       "      <td>9.179432e+09</td>\n",
       "      <td>1200.000000</td>\n",
       "    </tr>\n",
       "    <tr>\n",
       "      <th>75%</th>\n",
       "      <td>9.632818e+09</td>\n",
       "      <td>1500.000000</td>\n",
       "    </tr>\n",
       "    <tr>\n",
       "      <th>max</th>\n",
       "      <td>9.989870e+09</td>\n",
       "      <td>1500.000000</td>\n",
       "    </tr>\n",
       "  </tbody>\n",
       "</table>\n",
       "</div>"
      ],
      "text/plain": [
       "          ContactNo  TicketPrice\n",
       "count  1.577000e+03  1577.000000\n",
       "mean   8.999055e+09  1070.783133\n",
       "std    8.341585e+08   493.027339\n",
       "min    9.886968e+08   205.000000\n",
       "25%    8.357879e+09   600.000000\n",
       "50%    9.179432e+09  1200.000000\n",
       "75%    9.632818e+09  1500.000000\n",
       "max    9.989870e+09  1500.000000"
      ]
     },
     "execution_count": 3,
     "metadata": {},
     "output_type": "execute_result"
    }
   ],
   "source": [
    "df.describe()"
   ]
  },
  {
   "cell_type": "markdown",
   "metadata": {},
   "source": [
    "## Initial thoughts\n",
    "\n",
    "The data is quite rich, but there are some things we don't really need. (IMO)\n",
    "\n",
    "Let's drop the contact no.\n",
    "\n",
    "Also, notice 1 and 2. They differ only in the Ticket name column. Now, for some context: Pravega '17 had general registration compulsory for workshop attendees too.\n",
    "\n",
    "And do we really need email ids? Not very interesting. Let's drop it."
   ]
  },
  {
   "cell_type": "code",
   "execution_count": 4,
   "metadata": {},
   "outputs": [
    {
     "data": {
      "text/html": [
       "<div>\n",
       "<style>\n",
       "    .dataframe thead tr:only-child th {\n",
       "        text-align: right;\n",
       "    }\n",
       "\n",
       "    .dataframe thead th {\n",
       "        text-align: left;\n",
       "    }\n",
       "\n",
       "    .dataframe tbody tr th {\n",
       "        vertical-align: top;\n",
       "    }\n",
       "</style>\n",
       "<table border=\"1\" class=\"dataframe\">\n",
       "  <thead>\n",
       "    <tr style=\"text-align: right;\">\n",
       "      <th></th>\n",
       "      <th>Name</th>\n",
       "      <th>College / City Name</th>\n",
       "      <th>Ticket name</th>\n",
       "      <th>TicketPrice</th>\n",
       "      <th>RegisteredOn</th>\n",
       "    </tr>\n",
       "    <tr>\n",
       "      <th>TCFRegistrationId</th>\n",
       "      <th></th>\n",
       "      <th></th>\n",
       "      <th></th>\n",
       "      <th></th>\n",
       "      <th></th>\n",
       "    </tr>\n",
       "  </thead>\n",
       "  <tbody>\n",
       "    <tr>\n",
       "      <th>5582JE5</th>\n",
       "      <td>BISHWAJEET KUMAR SINGH</td>\n",
       "      <td>BANGALORE</td>\n",
       "      <td>General Registration</td>\n",
       "      <td>205</td>\n",
       "      <td>Wed Nov 16 17:19:22 IST 2016</td>\n",
       "    </tr>\n",
       "    <tr>\n",
       "      <th>3PPAHDT</th>\n",
       "      <td>N S Chiranjeevi</td>\n",
       "      <td>Indian Institute of Science Education and Rese...</td>\n",
       "      <td>General Registration</td>\n",
       "      <td>205</td>\n",
       "      <td>Tue Nov 22 08:59:26 IST 2016</td>\n",
       "    </tr>\n",
       "    <tr>\n",
       "      <th>3PPAHDT</th>\n",
       "      <td>N S Chiranjeevi</td>\n",
       "      <td>Indian Institute of Science Education and Rese...</td>\n",
       "      <td>Big Data</td>\n",
       "      <td>1500</td>\n",
       "      <td>Tue Nov 22 08:59:26 IST 2016</td>\n",
       "    </tr>\n",
       "    <tr>\n",
       "      <th>PSAXT4E</th>\n",
       "      <td>Shashank K M</td>\n",
       "      <td>St. Joseph College, Bangalore</td>\n",
       "      <td>Big Data</td>\n",
       "      <td>1500</td>\n",
       "      <td>Wed Nov 30 20:54:34 IST 2016</td>\n",
       "    </tr>\n",
       "    <tr>\n",
       "      <th>5XHV4ZX</th>\n",
       "      <td>Rohan Pai M</td>\n",
       "      <td>St.Joseph College Bangalore</td>\n",
       "      <td>Big Data</td>\n",
       "      <td>1500</td>\n",
       "      <td>Wed Nov 30 22:26:03 IST 2016</td>\n",
       "    </tr>\n",
       "  </tbody>\n",
       "</table>\n",
       "</div>"
      ],
      "text/plain": [
       "                                     Name  \\\n",
       "TCFRegistrationId                           \n",
       "5582JE5            BISHWAJEET KUMAR SINGH   \n",
       "3PPAHDT                   N S Chiranjeevi   \n",
       "3PPAHDT                   N S Chiranjeevi   \n",
       "PSAXT4E                      Shashank K M   \n",
       "5XHV4ZX                       Rohan Pai M   \n",
       "\n",
       "                                                 College / City Name  \\\n",
       "TCFRegistrationId                                                      \n",
       "5582JE5                                                    BANGALORE   \n",
       "3PPAHDT            Indian Institute of Science Education and Rese...   \n",
       "3PPAHDT            Indian Institute of Science Education and Rese...   \n",
       "PSAXT4E                                St. Joseph College, Bangalore   \n",
       "5XHV4ZX                                  St.Joseph College Bangalore   \n",
       "\n",
       "                            Ticket name  TicketPrice  \\\n",
       "TCFRegistrationId                                      \n",
       "5582JE5            General Registration          205   \n",
       "3PPAHDT            General Registration          205   \n",
       "3PPAHDT                        Big Data         1500   \n",
       "PSAXT4E                        Big Data         1500   \n",
       "5XHV4ZX                        Big Data         1500   \n",
       "\n",
       "                                   RegisteredOn  \n",
       "TCFRegistrationId                                \n",
       "5582JE5            Wed Nov 16 17:19:22 IST 2016  \n",
       "3PPAHDT            Tue Nov 22 08:59:26 IST 2016  \n",
       "3PPAHDT            Tue Nov 22 08:59:26 IST 2016  \n",
       "PSAXT4E            Wed Nov 30 20:54:34 IST 2016  \n",
       "5XHV4ZX            Wed Nov 30 22:26:03 IST 2016  "
      ]
     },
     "execution_count": 4,
     "metadata": {},
     "output_type": "execute_result"
    }
   ],
   "source": [
    "df_lesser = df.drop(axis=1, labels=['ContactNo', 'Email'])\n",
    "\n",
    "#change index to TCFRegistrationId\n",
    "\n",
    "df_lesser = df_lesser.set_index('TCFRegistrationId')\n",
    "df_lesser.head()"
   ]
  },
  {
   "cell_type": "markdown",
   "metadata": {},
   "source": [
    "### Time Series data\n",
    "\n",
    "Look at the last column. Time series data is always interesting. Let's look at what type it is."
   ]
  },
  {
   "cell_type": "code",
   "execution_count": 5,
   "metadata": {},
   "outputs": [
    {
     "data": {
      "text/plain": [
       "str"
      ]
     },
     "execution_count": 5,
     "metadata": {},
     "output_type": "execute_result"
    }
   ],
   "source": [
    "type(df_lesser.RegisteredOn[0])"
   ]
  },
  {
   "cell_type": "markdown",
   "metadata": {},
   "source": [
    "It's a string. We need to convert it into some sensible format."
   ]
  },
  {
   "cell_type": "code",
   "execution_count": 7,
   "metadata": {},
   "outputs": [],
   "source": [
    "df_lesser.RegisteredOn = pd.to_datetime(df_lesser.RegisteredOn).apply(lambda x: x.tz_localize('Asia/Kolkata'))"
   ]
  },
  {
   "cell_type": "code",
   "execution_count": 8,
   "metadata": {},
   "outputs": [
    {
     "data": {
      "text/html": [
       "<div>\n",
       "<style>\n",
       "    .dataframe thead tr:only-child th {\n",
       "        text-align: right;\n",
       "    }\n",
       "\n",
       "    .dataframe thead th {\n",
       "        text-align: left;\n",
       "    }\n",
       "\n",
       "    .dataframe tbody tr th {\n",
       "        vertical-align: top;\n",
       "    }\n",
       "</style>\n",
       "<table border=\"1\" class=\"dataframe\">\n",
       "  <thead>\n",
       "    <tr style=\"text-align: right;\">\n",
       "      <th></th>\n",
       "      <th>Name</th>\n",
       "      <th>College / City Name</th>\n",
       "      <th>Ticket name</th>\n",
       "      <th>TicketPrice</th>\n",
       "      <th>RegisteredOn</th>\n",
       "    </tr>\n",
       "    <tr>\n",
       "      <th>TCFRegistrationId</th>\n",
       "      <th></th>\n",
       "      <th></th>\n",
       "      <th></th>\n",
       "      <th></th>\n",
       "      <th></th>\n",
       "    </tr>\n",
       "  </thead>\n",
       "  <tbody>\n",
       "    <tr>\n",
       "      <th>5582JE5</th>\n",
       "      <td>BISHWAJEET KUMAR SINGH</td>\n",
       "      <td>BANGALORE</td>\n",
       "      <td>General Registration</td>\n",
       "      <td>205</td>\n",
       "      <td>2016-11-16 11:49:22+05:30</td>\n",
       "    </tr>\n",
       "    <tr>\n",
       "      <th>3PPAHDT</th>\n",
       "      <td>N S Chiranjeevi</td>\n",
       "      <td>Indian Institute of Science Education and Rese...</td>\n",
       "      <td>General Registration</td>\n",
       "      <td>205</td>\n",
       "      <td>2016-11-22 03:29:26+05:30</td>\n",
       "    </tr>\n",
       "    <tr>\n",
       "      <th>3PPAHDT</th>\n",
       "      <td>N S Chiranjeevi</td>\n",
       "      <td>Indian Institute of Science Education and Rese...</td>\n",
       "      <td>Big Data</td>\n",
       "      <td>1500</td>\n",
       "      <td>2016-11-22 03:29:26+05:30</td>\n",
       "    </tr>\n",
       "    <tr>\n",
       "      <th>PSAXT4E</th>\n",
       "      <td>Shashank K M</td>\n",
       "      <td>St. Joseph College, Bangalore</td>\n",
       "      <td>Big Data</td>\n",
       "      <td>1500</td>\n",
       "      <td>2016-11-30 15:24:34+05:30</td>\n",
       "    </tr>\n",
       "    <tr>\n",
       "      <th>5XHV4ZX</th>\n",
       "      <td>Rohan Pai M</td>\n",
       "      <td>St.Joseph College Bangalore</td>\n",
       "      <td>Big Data</td>\n",
       "      <td>1500</td>\n",
       "      <td>2016-11-30 16:56:03+05:30</td>\n",
       "    </tr>\n",
       "  </tbody>\n",
       "</table>\n",
       "</div>"
      ],
      "text/plain": [
       "                                     Name  \\\n",
       "TCFRegistrationId                           \n",
       "5582JE5            BISHWAJEET KUMAR SINGH   \n",
       "3PPAHDT                   N S Chiranjeevi   \n",
       "3PPAHDT                   N S Chiranjeevi   \n",
       "PSAXT4E                      Shashank K M   \n",
       "5XHV4ZX                       Rohan Pai M   \n",
       "\n",
       "                                                 College / City Name  \\\n",
       "TCFRegistrationId                                                      \n",
       "5582JE5                                                    BANGALORE   \n",
       "3PPAHDT            Indian Institute of Science Education and Rese...   \n",
       "3PPAHDT            Indian Institute of Science Education and Rese...   \n",
       "PSAXT4E                                St. Joseph College, Bangalore   \n",
       "5XHV4ZX                                  St.Joseph College Bangalore   \n",
       "\n",
       "                            Ticket name  TicketPrice              RegisteredOn  \n",
       "TCFRegistrationId                                                               \n",
       "5582JE5            General Registration          205 2016-11-16 11:49:22+05:30  \n",
       "3PPAHDT            General Registration          205 2016-11-22 03:29:26+05:30  \n",
       "3PPAHDT                        Big Data         1500 2016-11-22 03:29:26+05:30  \n",
       "PSAXT4E                        Big Data         1500 2016-11-30 15:24:34+05:30  \n",
       "5XHV4ZX                        Big Data         1500 2016-11-30 16:56:03+05:30  "
      ]
     },
     "execution_count": 8,
     "metadata": {},
     "output_type": "execute_result"
    }
   ],
   "source": [
    "df_lesser.head()"
   ]
  },
  {
   "cell_type": "code",
   "execution_count": 10,
   "metadata": {},
   "outputs": [
    {
     "data": {
      "text/plain": [
       "pandas._libs.tslib.Timestamp"
      ]
     },
     "execution_count": 10,
     "metadata": {},
     "output_type": "execute_result"
    }
   ],
   "source": [
    "type(df_lesser.RegisteredOn[1])"
   ]
  },
  {
   "cell_type": "code",
   "execution_count": 11,
   "metadata": {},
   "outputs": [
    {
     "data": {
      "text/html": [
       "<div>\n",
       "<style>\n",
       "    .dataframe thead tr:only-child th {\n",
       "        text-align: right;\n",
       "    }\n",
       "\n",
       "    .dataframe thead th {\n",
       "        text-align: left;\n",
       "    }\n",
       "\n",
       "    .dataframe tbody tr th {\n",
       "        vertical-align: top;\n",
       "    }\n",
       "</style>\n",
       "<table border=\"1\" class=\"dataframe\">\n",
       "  <thead>\n",
       "    <tr style=\"text-align: right;\">\n",
       "      <th></th>\n",
       "      <th>Name</th>\n",
       "      <th>College / City Name</th>\n",
       "      <th>Ticket name</th>\n",
       "      <th>TicketPrice</th>\n",
       "      <th>RegisteredOn</th>\n",
       "    </tr>\n",
       "    <tr>\n",
       "      <th>TCFRegistrationId</th>\n",
       "      <th></th>\n",
       "      <th></th>\n",
       "      <th></th>\n",
       "      <th></th>\n",
       "      <th></th>\n",
       "    </tr>\n",
       "  </thead>\n",
       "  <tbody>\n",
       "    <tr>\n",
       "      <th>88354MD</th>\n",
       "      <td>Rishabh Mittal</td>\n",
       "      <td>Ms Ramaiah university of applied sciences</td>\n",
       "      <td>General Registration</td>\n",
       "      <td>205</td>\n",
       "      <td>2017-01-21 08:57:30+05:30</td>\n",
       "    </tr>\n",
       "    <tr>\n",
       "      <th>88354MD</th>\n",
       "      <td>Rakshit desurkar</td>\n",
       "      <td>Ms Ramaiah university of applied sciences</td>\n",
       "      <td>General Registration</td>\n",
       "      <td>205</td>\n",
       "      <td>2017-01-21 08:57:30+05:30</td>\n",
       "    </tr>\n",
       "    <tr>\n",
       "      <th>88354MD</th>\n",
       "      <td>Sahaj Rai</td>\n",
       "      <td>Ms Ramaiah university of applied sciences</td>\n",
       "      <td>General Registration</td>\n",
       "      <td>205</td>\n",
       "      <td>2017-01-21 08:57:30+05:30</td>\n",
       "    </tr>\n",
       "    <tr>\n",
       "      <th>CJCFSUK</th>\n",
       "      <td>Veera Vardhan</td>\n",
       "      <td>BMSCE/bangalore</td>\n",
       "      <td>General Registration</td>\n",
       "      <td>205</td>\n",
       "      <td>2017-01-21 09:41:27+05:30</td>\n",
       "    </tr>\n",
       "    <tr>\n",
       "      <th>VPZVEGX</th>\n",
       "      <td>Tharun Kumar Reddy</td>\n",
       "      <td>Bangalore</td>\n",
       "      <td>General Registration</td>\n",
       "      <td>205</td>\n",
       "      <td>2017-01-21 14:16:14+05:30</td>\n",
       "    </tr>\n",
       "  </tbody>\n",
       "</table>\n",
       "</div>"
      ],
      "text/plain": [
       "                                 Name  \\\n",
       "TCFRegistrationId                       \n",
       "88354MD                Rishabh Mittal   \n",
       "88354MD              Rakshit desurkar   \n",
       "88354MD                     Sahaj Rai   \n",
       "CJCFSUK                 Veera Vardhan   \n",
       "VPZVEGX            Tharun Kumar Reddy   \n",
       "\n",
       "                                         College / City Name  \\\n",
       "TCFRegistrationId                                              \n",
       "88354MD            Ms Ramaiah university of applied sciences   \n",
       "88354MD            Ms Ramaiah university of applied sciences   \n",
       "88354MD            Ms Ramaiah university of applied sciences   \n",
       "CJCFSUK                                      BMSCE/bangalore   \n",
       "VPZVEGX                                            Bangalore   \n",
       "\n",
       "                            Ticket name  TicketPrice              RegisteredOn  \n",
       "TCFRegistrationId                                                               \n",
       "88354MD            General Registration          205 2017-01-21 08:57:30+05:30  \n",
       "88354MD            General Registration          205 2017-01-21 08:57:30+05:30  \n",
       "88354MD            General Registration          205 2017-01-21 08:57:30+05:30  \n",
       "CJCFSUK            General Registration          205 2017-01-21 09:41:27+05:30  \n",
       "VPZVEGX            General Registration          205 2017-01-21 14:16:14+05:30  "
      ]
     },
     "execution_count": 11,
     "metadata": {},
     "output_type": "execute_result"
    }
   ],
   "source": [
    "df_lesser.tail()"
   ]
  },
  {
   "cell_type": "markdown",
   "metadata": {},
   "source": [
    "## Preliminary analysis\n",
    "\n",
    "Alright. The boring stuff is kinda done. The data is now in a nice format in df_lesser. And it is sorted by time. Now, to get some more info about our data."
   ]
  },
  {
   "cell_type": "code",
   "execution_count": 13,
   "metadata": {},
   "outputs": [
    {
     "data": {
      "text/plain": [
       "count                          1577\n",
       "unique                          886\n",
       "top       2017-01-05 11:17:43+05:30\n",
       "freq                             21\n",
       "Name: RegisteredOn, dtype: object"
      ]
     },
     "execution_count": 13,
     "metadata": {},
     "output_type": "execute_result"
    }
   ],
   "source": [
    "df_lesser.RegisteredOn.describe()"
   ]
  },
  {
   "cell_type": "code",
   "execution_count": 14,
   "metadata": {},
   "outputs": [
    {
     "data": {
      "text/plain": [
       "count    1577.000000\n",
       "mean     1070.783133\n",
       "std       493.027339\n",
       "min       205.000000\n",
       "25%       600.000000\n",
       "50%      1200.000000\n",
       "75%      1500.000000\n",
       "max      1500.000000\n",
       "Name: TicketPrice, dtype: float64"
      ]
     },
     "execution_count": 14,
     "metadata": {},
     "output_type": "execute_result"
    }
   ],
   "source": [
    "df_lesser.TicketPrice.describe()"
   ]
  },
  {
   "cell_type": "code",
   "execution_count": 18,
   "metadata": {},
   "outputs": [
    {
     "data": {
      "text/plain": [
       "count                     1577\n",
       "unique                      13\n",
       "top       General Registration\n",
       "freq                       255\n",
       "Name: Ticket name, dtype: object"
      ]
     },
     "execution_count": 18,
     "metadata": {},
     "output_type": "execute_result"
    }
   ],
   "source": [
    "df_lesser['Ticket name'].describe()"
   ]
  },
  {
   "cell_type": "code",
   "execution_count": 19,
   "metadata": {},
   "outputs": [
    {
     "data": {
      "text/plain": [
       "array(['General Registration', 'Big Data', 'Cyber Forensics',\n",
       "       'Internet of Things', 'Android Controlled Robotics',\n",
       "       'Game Development using Virtual Reality',\n",
       "       'Automobile and IC Engine Design', 'Theatre Improv',\n",
       "       'Touch and Augmented Reality', 'Drone Photography',\n",
       "       'Quadcopter Workshop', 'Pravega Accommodation for 2 nights',\n",
       "       'Spray Paint Art'], dtype=object)"
      ]
     },
     "execution_count": 19,
     "metadata": {},
     "output_type": "execute_result"
    }
   ],
   "source": [
    "df_lesser['Ticket name'].unique()"
   ]
  },
  {
   "cell_type": "code",
   "execution_count": 39,
   "metadata": {},
   "outputs": [
    {
     "data": {
      "text/plain": [
       "887"
      ]
     },
     "execution_count": 39,
     "metadata": {},
     "output_type": "execute_result"
    }
   ],
   "source": [
    "no_transactions = df_lesser.index.unique().size # Number of transactions\n",
    "no_transactions"
   ]
  },
  {
   "cell_type": "code",
   "execution_count": 40,
   "metadata": {},
   "outputs": [
    {
     "data": {
      "text/plain": [
       "array([ 205, 1500, 1200, 1350,  300, 1100, 1000,  500,  800,  600])"
      ]
     },
     "execution_count": 40,
     "metadata": {},
     "output_type": "execute_result"
    }
   ],
   "source": [
    "df_lesser.TicketPrice.unique()"
   ]
  },
  {
   "cell_type": "code",
   "execution_count": 41,
   "metadata": {},
   "outputs": [
    {
     "data": {
      "text/plain": [
       "1387"
      ]
     },
     "execution_count": 41,
     "metadata": {},
     "output_type": "execute_result"
    }
   ],
   "source": [
    "no_ppl = df_lesser.Name.unique().size\n",
    "no_ppl"
   ]
  },
  {
   "cell_type": "code",
   "execution_count": 62,
   "metadata": {},
   "outputs": [
    {
     "data": {
      "text/plain": [
       "1577"
      ]
     },
     "execution_count": 62,
     "metadata": {},
     "output_type": "execute_result"
    }
   ],
   "source": [
    "no_tickets = df_lesser.shape[0]\n",
    "no_tickets"
   ]
  },
  {
   "cell_type": "markdown",
   "metadata": {},
   "source": [
    "1577 total tickets, of which 1387 unique people. Money paid in a total of 887 transactions."
   ]
  },
  {
   "cell_type": "code",
   "execution_count": 120,
   "metadata": {},
   "outputs": [
    {
     "data": {
      "text/plain": [
       "Internet of Things                        196\n",
       "Big Data                                  194\n",
       "Quadcopter Workshop                       152\n",
       "Cyber Forensics                           146\n",
       "Automobile and IC Engine Design           129\n",
       "Android Controlled Robotics               124\n",
       "Touch and Augmented Reality               108\n",
       "Game Development using Virtual Reality     57\n",
       "Theatre Improv                             27\n",
       "Spray Paint Art                            12\n",
       "Drone Photography                          11\n",
       "Name: # of Registrations, dtype: int64"
      ]
     },
     "execution_count": 120,
     "metadata": {},
     "output_type": "execute_result"
    }
   ],
   "source": [
    "wksp_count = df_lesser[(df_lesser['Ticket name'] != 'General Registration')\n",
    "                       & (df_lesser['Ticket name'] != 'Pravega Accommodation for 2 nights') \n",
    "                      ]['Ticket name'].value_counts()\n",
    "wksp_count.name = '# of Registrations'\n",
    "wksp_count"
   ]
  },
  {
   "cell_type": "markdown",
   "metadata": {},
   "source": [
    "## Workshop popularity\n",
    "\n",
    "Graph time!"
   ]
  },
  {
   "cell_type": "code",
   "execution_count": 127,
   "metadata": {},
   "outputs": [
    {
     "data": {
      "image/png": "[encoded data removed]",
      "text/plain": [
       "<matplotlib.figure.Figure at 0x7f7ad6cd4e10>"
      ]
     },
     "metadata": {},
     "output_type": "display_data"
    }
   ],
   "source": [
    "%matplotlib inline\n",
    "wksp_count.plot(kind = 'barh', title = 'Workshop Registrations')"
   ]
  },
  {
   "cell_type": "markdown",
   "metadata": {},
   "source": [
    "Is this somehow related to the price of workshops?"
   ]
  },
  {
   "cell_type": "code",
   "execution_count": 131,
   "metadata": {},
   "outputs": [
    {
     "data": {
      "text/plain": [
       "<matplotlib.axes._subplots.AxesSubplot at 0x7f7ad7330a20>"
      ]
     },
     "execution_count": 131,
     "metadata": {},
     "output_type": "execute_result"
    },
    {
     "data": {
      "image/png": "[encoded data removed]",
      "text/plain": [
       "<matplotlib.figure.Figure at 0x7f7ad7312550>"
      ]
     },
     "metadata": {},
     "output_type": "display_data"
    }
   ],
   "source": [
    "prices = df_lesser.drop_duplicates('Ticket name').set_index('Ticket name')\n",
    "prices = prices[['TicketPrice']]\n",
    "prices = prices.drop(['General Registration', 'Pravega Accommodation for 2 nights'])\n",
    "\n",
    "prices = prices.TicketPrice\n",
    "prices.name = 'Price of Workshop'\n",
    "\n",
    "sns.regplot(prices, wksp_count, fit_reg=False)"
   ]
  },
  {
   "cell_type": "code",
   "execution_count": null,
   "metadata": {
    "collapsed": true
   },
   "outputs": [],
   "source": []
  }
 ],
 "metadata": {
  "kernelspec": {
   "display_name": "Python 3",
   "language": "python",
   "name": "python3"
  },
  "language_info": {
   "codemirror_mode": {
    "name": "ipython",
    "version": 3
   },
   "file_extension": ".py",
   "mimetype": "text/x-python",
   "name": "python",
   "nbconvert_exporter": "python",
   "pygments_lexer": "ipython3",
   "version": "3.6.3"
  }
 },
 "nbformat": 4,
 "nbformat_minor": 2
}
